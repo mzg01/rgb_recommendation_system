{
 "cells": [
  {
   "cell_type": "code",
   "execution_count": 1,
   "metadata": {},
   "outputs": [],
   "source": [
    "import pandas as pd\n",
    "from tqdm import tqdm\n",
    "from scipy.sparse import csr_matrix\n",
    "from implicit.als import AlternatingLeastSquares\n",
    "from sklearn.model_selection import train_test_split\n",
    "from matplotlib import pyplot as plt\n",
    "import numpy as np\n",
    "import pickle as pkl\n",
    "\n",
    "%matplotlib inline"
   ]
  },
  {
   "cell_type": "markdown",
   "metadata": {},
   "source": [
    "## Чтение данных"
   ]
  },
  {
   "cell_type": "code",
   "execution_count": 2,
   "metadata": {},
   "outputs": [],
   "source": [
    "items = pd.read_csv('items.csv', delimiter=';', dtype={'author': str, 'bbk': str, 'izd': str, 'sys_numb': str, 'title': str, 'year_izd': str})"
   ]
  },
  {
   "cell_type": "code",
   "execution_count": 3,
   "metadata": {},
   "outputs": [
    {
     "data": {
      "text/html": [
       "<div>\n",
       "<style scoped>\n",
       "    .dataframe tbody tr th:only-of-type {\n",
       "        vertical-align: middle;\n",
       "    }\n",
       "\n",
       "    .dataframe tbody tr th {\n",
       "        vertical-align: top;\n",
       "    }\n",
       "\n",
       "    .dataframe thead th {\n",
       "        text-align: right;\n",
       "    }\n",
       "</style>\n",
       "<table border=\"1\" class=\"dataframe\">\n",
       "  <thead>\n",
       "    <tr style=\"text-align: right;\">\n",
       "      <th></th>\n",
       "      <th>sys_numb</th>\n",
       "      <th>title</th>\n",
       "      <th>author</th>\n",
       "      <th>izd</th>\n",
       "      <th>year_izd</th>\n",
       "      <th>bbk</th>\n",
       "    </tr>\n",
       "  </thead>\n",
       "  <tbody>\n",
       "    <tr>\n",
       "      <th>0</th>\n",
       "      <td>RSL01008600016</td>\n",
       "      <td>Судебное следствие в уголовном процессе России...</td>\n",
       "      <td>Машовец, Асия Океановна</td>\n",
       "      <td>Юрлитинформ</td>\n",
       "      <td>2016</td>\n",
       "      <td>Х629.374,0</td>\n",
       "    </tr>\n",
       "    <tr>\n",
       "      <th>1</th>\n",
       "      <td>RSL01004304880</td>\n",
       "      <td>Уральское казачество и его роль в системе росс...</td>\n",
       "      <td>Дубовиков, Александр Маратович</td>\n",
       "      <td>none</td>\n",
       "      <td>2006</td>\n",
       "      <td>none</td>\n",
       "    </tr>\n",
       "    <tr>\n",
       "      <th>2</th>\n",
       "      <td>RSL07000461043</td>\n",
       "      <td>отсутствует</td>\n",
       "      <td>отсутствует</td>\n",
       "      <td>отсутствует</td>\n",
       "      <td>отсутствует</td>\n",
       "      <td>отсутствует</td>\n",
       "    </tr>\n",
       "    <tr>\n",
       "      <th>3</th>\n",
       "      <td>RSL07000433335</td>\n",
       "      <td>отсутствует</td>\n",
       "      <td>отсутствует</td>\n",
       "      <td>отсутствует</td>\n",
       "      <td>отсутствует</td>\n",
       "      <td>отсутствует</td>\n",
       "    </tr>\n",
       "    <tr>\n",
       "      <th>4</th>\n",
       "      <td>RSL01002419013</td>\n",
       "      <td>\"Я пишу как эхо другого..\" : Очерки интеллекту...</td>\n",
       "      <td>Щедрина, Татьяна Геннадьевна</td>\n",
       "      <td>Прогресс-Традиция</td>\n",
       "      <td>2004</td>\n",
       "      <td>Ю3(2)6-69Шпет Г.Г.-3,0</td>\n",
       "    </tr>\n",
       "  </tbody>\n",
       "</table>\n",
       "</div>"
      ],
      "text/plain": [
       "         sys_numb                                              title  \\\n",
       "0  RSL01008600016  Судебное следствие в уголовном процессе России...   \n",
       "1  RSL01004304880  Уральское казачество и его роль в системе росс...   \n",
       "2  RSL07000461043                                        отсутствует   \n",
       "3  RSL07000433335                                        отсутствует   \n",
       "4  RSL01002419013  \"Я пишу как эхо другого..\" : Очерки интеллекту...   \n",
       "\n",
       "                           author                izd     year_izd  \\\n",
       "0         Машовец, Асия Океановна        Юрлитинформ         2016   \n",
       "1  Дубовиков, Александр Маратович               none         2006   \n",
       "2                     отсутствует        отсутствует  отсутствует   \n",
       "3                     отсутствует        отсутствует  отсутствует   \n",
       "4    Щедрина, Татьяна Геннадьевна  Прогресс-Традиция         2004   \n",
       "\n",
       "                      bbk  \n",
       "0              Х629.374,0  \n",
       "1                    none  \n",
       "2             отсутствует  \n",
       "3             отсутствует  \n",
       "4  Ю3(2)6-69Шпет Г.Г.-3,0  "
      ]
     },
     "execution_count": 3,
     "metadata": {},
     "output_type": "execute_result"
    }
   ],
   "source": [
    "items.head()"
   ]
  },
  {
   "cell_type": "code",
   "execution_count": 4,
   "metadata": {},
   "outputs": [
    {
     "data": {
      "text/plain": [
       "(26676, 6)"
      ]
     },
     "execution_count": 4,
     "metadata": {},
     "output_type": "execute_result"
    }
   ],
   "source": [
    "items[items['title'] == 'отсутствует'].shape"
   ]
  },
  {
   "cell_type": "code",
   "execution_count": 5,
   "metadata": {},
   "outputs": [
    {
     "data": {
      "text/plain": [
       "(91730, 6)"
      ]
     },
     "execution_count": 5,
     "metadata": {},
     "output_type": "execute_result"
    }
   ],
   "source": [
    "items[items['author'].isin(['отсутствует', 'none'])].shape"
   ]
  },
  {
   "cell_type": "code",
   "execution_count": 6,
   "metadata": {},
   "outputs": [
    {
     "name": "stdout",
     "output_type": "stream",
     "text": [
      "<class 'pandas.core.frame.DataFrame'>\n",
      "RangeIndex: 354355 entries, 0 to 354354\n",
      "Data columns (total 6 columns):\n",
      " #   Column    Non-Null Count   Dtype \n",
      "---  ------    --------------   ----- \n",
      " 0   sys_numb  354355 non-null  object\n",
      " 1   title     354355 non-null  object\n",
      " 2   author    354355 non-null  object\n",
      " 3   izd       354355 non-null  object\n",
      " 4   year_izd  354354 non-null  object\n",
      " 5   bbk       354281 non-null  object\n",
      "dtypes: object(6)\n",
      "memory usage: 16.2+ MB\n"
     ]
    }
   ],
   "source": [
    "items.info()"
   ]
  },
  {
   "cell_type": "code",
   "execution_count": 7,
   "metadata": {},
   "outputs": [],
   "source": [
    "users = pd.read_csv('users.csv', delimiter=';', dtype={'age': str, 'chb': str, 'chit_type': str, 'gender': str})"
   ]
  },
  {
   "cell_type": "code",
   "execution_count": 8,
   "metadata": {},
   "outputs": [
    {
     "data": {
      "text/html": [
       "<div>\n",
       "<style scoped>\n",
       "    .dataframe tbody tr th:only-of-type {\n",
       "        vertical-align: middle;\n",
       "    }\n",
       "\n",
       "    .dataframe tbody tr th {\n",
       "        vertical-align: top;\n",
       "    }\n",
       "\n",
       "    .dataframe thead th {\n",
       "        text-align: right;\n",
       "    }\n",
       "</style>\n",
       "<table border=\"1\" class=\"dataframe\">\n",
       "  <thead>\n",
       "    <tr style=\"text-align: right;\">\n",
       "      <th></th>\n",
       "      <th>chb</th>\n",
       "      <th>age</th>\n",
       "      <th>gender</th>\n",
       "      <th>chit_type</th>\n",
       "    </tr>\n",
       "  </thead>\n",
       "  <tbody>\n",
       "    <tr>\n",
       "      <th>0</th>\n",
       "      <td>300001020830</td>\n",
       "      <td>21</td>\n",
       "      <td>female</td>\n",
       "      <td>нет данных</td>\n",
       "    </tr>\n",
       "    <tr>\n",
       "      <th>1</th>\n",
       "      <td>300001113642</td>\n",
       "      <td>36</td>\n",
       "      <td>female</td>\n",
       "      <td>нет данных</td>\n",
       "    </tr>\n",
       "    <tr>\n",
       "      <th>2</th>\n",
       "      <td>300001148466</td>\n",
       "      <td>46</td>\n",
       "      <td>female</td>\n",
       "      <td>нет данных</td>\n",
       "    </tr>\n",
       "    <tr>\n",
       "      <th>3</th>\n",
       "      <td>300001117011</td>\n",
       "      <td>22</td>\n",
       "      <td>female</td>\n",
       "      <td>нет данных</td>\n",
       "    </tr>\n",
       "    <tr>\n",
       "      <th>4</th>\n",
       "      <td>200001038094</td>\n",
       "      <td>24</td>\n",
       "      <td>female</td>\n",
       "      <td>echb</td>\n",
       "    </tr>\n",
       "  </tbody>\n",
       "</table>\n",
       "</div>"
      ],
      "text/plain": [
       "            chb age  gender   chit_type\n",
       "0  300001020830  21  female  нет данных\n",
       "1  300001113642  36  female  нет данных\n",
       "2  300001148466  46  female  нет данных\n",
       "3  300001117011  22  female  нет данных\n",
       "4  200001038094  24  female        echb"
      ]
     },
     "execution_count": 8,
     "metadata": {},
     "output_type": "execute_result"
    }
   ],
   "source": [
    "users.head()"
   ]
  },
  {
   "cell_type": "code",
   "execution_count": 9,
   "metadata": {},
   "outputs": [
    {
     "data": {
      "text/plain": [
       "female         10407\n",
       "male            6332\n",
       "не указан         13\n",
       "отсутствует        1\n",
       "Name: gender, dtype: int64"
      ]
     },
     "execution_count": 9,
     "metadata": {},
     "output_type": "execute_result"
    }
   ],
   "source": [
    "users['gender'].value_counts()"
   ]
  },
  {
   "cell_type": "code",
   "execution_count": 10,
   "metadata": {},
   "outputs": [
    {
     "name": "stdout",
     "output_type": "stream",
     "text": [
      "<class 'pandas.core.frame.DataFrame'>\n",
      "RangeIndex: 16753 entries, 0 to 16752\n",
      "Data columns (total 4 columns):\n",
      " #   Column     Non-Null Count  Dtype \n",
      "---  ------     --------------  ----- \n",
      " 0   chb        16753 non-null  object\n",
      " 1   age        16753 non-null  object\n",
      " 2   gender     16753 non-null  object\n",
      " 3   chit_type  16753 non-null  object\n",
      "dtypes: object(4)\n",
      "memory usage: 523.7+ KB\n"
     ]
    }
   ],
   "source": [
    "users.info()"
   ]
  },
  {
   "cell_type": "code",
   "execution_count": 11,
   "metadata": {},
   "outputs": [],
   "source": [
    "transactions = pd.read_csv('train_transactions_extended.csv', delimiter=';', dtype={'chb': str, 'date_1': str, 'is_printed': str, 'is_real': str, 'source': str, 'sys_numb': str, 'type': str})"
   ]
  },
  {
   "cell_type": "code",
   "execution_count": 12,
   "metadata": {
    "scrolled": true
   },
   "outputs": [
    {
     "data": {
      "text/html": [
       "<div>\n",
       "<style scoped>\n",
       "    .dataframe tbody tr th:only-of-type {\n",
       "        vertical-align: middle;\n",
       "    }\n",
       "\n",
       "    .dataframe tbody tr th {\n",
       "        vertical-align: top;\n",
       "    }\n",
       "\n",
       "    .dataframe thead th {\n",
       "        text-align: right;\n",
       "    }\n",
       "</style>\n",
       "<table border=\"1\" class=\"dataframe\">\n",
       "  <thead>\n",
       "    <tr style=\"text-align: right;\">\n",
       "      <th></th>\n",
       "      <th>chb</th>\n",
       "      <th>sys_numb</th>\n",
       "      <th>date_1</th>\n",
       "      <th>is_real</th>\n",
       "      <th>type</th>\n",
       "      <th>source</th>\n",
       "      <th>is_printed</th>\n",
       "    </tr>\n",
       "  </thead>\n",
       "  <tbody>\n",
       "    <tr>\n",
       "      <th>0</th>\n",
       "      <td>100000641403</td>\n",
       "      <td>RSL01004206702</td>\n",
       "      <td>2021-02-21</td>\n",
       "      <td>yes</td>\n",
       "      <td>скачивание</td>\n",
       "      <td>dlib.rsl.ru</td>\n",
       "      <td>False</td>\n",
       "    </tr>\n",
       "    <tr>\n",
       "      <th>1</th>\n",
       "      <td>100000641403</td>\n",
       "      <td>RSL01000769304</td>\n",
       "      <td>2021-03-23</td>\n",
       "      <td>yes</td>\n",
       "      <td>скачивание</td>\n",
       "      <td>dlib.rsl.ru</td>\n",
       "      <td>False</td>\n",
       "    </tr>\n",
       "    <tr>\n",
       "      <th>2</th>\n",
       "      <td>100000641403</td>\n",
       "      <td>RSL01004211574</td>\n",
       "      <td>2021-02-21</td>\n",
       "      <td>yes</td>\n",
       "      <td>скачивание</td>\n",
       "      <td>dlib.rsl.ru</td>\n",
       "      <td>False</td>\n",
       "    </tr>\n",
       "    <tr>\n",
       "      <th>3</th>\n",
       "      <td>100000644359</td>\n",
       "      <td>RSL01009800093</td>\n",
       "      <td>2021-03-16</td>\n",
       "      <td>yes</td>\n",
       "      <td>книговыдача</td>\n",
       "      <td>единый просмоторщик</td>\n",
       "      <td>False</td>\n",
       "    </tr>\n",
       "    <tr>\n",
       "      <th>4</th>\n",
       "      <td>100000644359</td>\n",
       "      <td>RSL01003557352</td>\n",
       "      <td>2021-03-10</td>\n",
       "      <td>yes</td>\n",
       "      <td>книговыдача</td>\n",
       "      <td>единый просмоторщик</td>\n",
       "      <td>False</td>\n",
       "    </tr>\n",
       "  </tbody>\n",
       "</table>\n",
       "</div>"
      ],
      "text/plain": [
       "            chb        sys_numb      date_1 is_real         type  \\\n",
       "0  100000641403  RSL01004206702  2021-02-21     yes   скачивание   \n",
       "1  100000641403  RSL01000769304  2021-03-23     yes   скачивание   \n",
       "2  100000641403  RSL01004211574  2021-02-21     yes   скачивание   \n",
       "3  100000644359  RSL01009800093  2021-03-16     yes  книговыдача   \n",
       "4  100000644359  RSL01003557352  2021-03-10     yes  книговыдача   \n",
       "\n",
       "                source is_printed  \n",
       "0          dlib.rsl.ru      False  \n",
       "1          dlib.rsl.ru      False  \n",
       "2          dlib.rsl.ru      False  \n",
       "3  единый просмоторщик      False  \n",
       "4  единый просмоторщик      False  "
      ]
     },
     "execution_count": 12,
     "metadata": {},
     "output_type": "execute_result"
    }
   ],
   "source": [
    "transactions.head()"
   ]
  },
  {
   "cell_type": "code",
   "execution_count": 13,
   "metadata": {},
   "outputs": [
    {
     "name": "stdout",
     "output_type": "stream",
     "text": [
      "<class 'pandas.core.frame.DataFrame'>\n",
      "RangeIndex: 259566 entries, 0 to 259565\n",
      "Data columns (total 7 columns):\n",
      " #   Column      Non-Null Count   Dtype \n",
      "---  ------      --------------   ----- \n",
      " 0   chb         259566 non-null  object\n",
      " 1   sys_numb    259566 non-null  object\n",
      " 2   date_1      259566 non-null  object\n",
      " 3   is_real     259566 non-null  object\n",
      " 4   type        259566 non-null  object\n",
      " 5   source      259566 non-null  object\n",
      " 6   is_printed  259566 non-null  object\n",
      "dtypes: object(7)\n",
      "memory usage: 13.9+ MB\n"
     ]
    }
   ],
   "source": [
    "transactions.info()"
   ]
  },
  {
   "cell_type": "code",
   "execution_count": 14,
   "metadata": {},
   "outputs": [
    {
     "data": {
      "text/plain": [
       "None           141372\n",
       "книговыдача     85809\n",
       "скачивание      32015\n",
       "скачка            370\n",
       "Name: type, dtype: int64"
      ]
     },
     "execution_count": 14,
     "metadata": {},
     "output_type": "execute_result"
    }
   ],
   "source": [
    "transactions['type'].value_counts()"
   ]
  },
  {
   "cell_type": "code",
   "execution_count": 15,
   "metadata": {},
   "outputs": [
    {
     "data": {
      "text/plain": [
       "yes    247928\n",
       "no      11638\n",
       "Name: is_real, dtype: int64"
      ]
     },
     "execution_count": 15,
     "metadata": {},
     "output_type": "execute_result"
    }
   ],
   "source": [
    "transactions['is_real'].value_counts()"
   ]
  },
  {
   "cell_type": "code",
   "execution_count": 16,
   "metadata": {},
   "outputs": [],
   "source": [
    "n_users = len(transactions['chb'].unique())\n",
    "n_items = len(items['sys_numb'].unique())\n",
    "\n",
    "mapping_chb_index = {chb_number: index for index, chb_number in enumerate(transactions['chb'].unique())}\n",
    "mapping_sys_numb_index = {sys_number: index for index, sys_number in enumerate(items['sys_numb'].unique())}\n",
    "\n",
    "mapping_index_chb = {index: chb_number for index, chb_number in enumerate(transactions['chb'].unique())}\n",
    "mapping_index_sys_numb = {index: sys_number for index, sys_number in enumerate(items['sys_numb'].unique())}"
   ]
  },
  {
   "cell_type": "code",
   "execution_count": 17,
   "metadata": {},
   "outputs": [],
   "source": [
    "users_filtered = users[users['gender'].isin({'male', 'female'}) & users['age'].apply(lambda x: x.isdigit())]"
   ]
  },
  {
   "cell_type": "code",
   "execution_count": 18,
   "metadata": {},
   "outputs": [
    {
     "name": "stdout",
     "output_type": "stream",
     "text": [
      "<class 'pandas.core.frame.DataFrame'>\n",
      "Int64Index: 16739 entries, 0 to 16752\n",
      "Data columns (total 4 columns):\n",
      " #   Column     Non-Null Count  Dtype \n",
      "---  ------     --------------  ----- \n",
      " 0   chb        16739 non-null  object\n",
      " 1   age        16739 non-null  object\n",
      " 2   gender     16739 non-null  object\n",
      " 3   chit_type  16739 non-null  object\n",
      "dtypes: object(4)\n",
      "memory usage: 653.9+ KB\n"
     ]
    }
   ],
   "source": [
    "users_filtered.info()"
   ]
  },
  {
   "cell_type": "markdown",
   "metadata": {},
   "source": [
    "### бьём на train и test"
   ]
  },
  {
   "cell_type": "code",
   "execution_count": 19,
   "metadata": {},
   "outputs": [],
   "source": [
    "train_data, test_data = train_test_split(transactions)"
   ]
  },
  {
   "cell_type": "markdown",
   "metadata": {},
   "source": [
    "### Готовим данные для рекомендаций на основе социальных данных (пола и возраста)"
   ]
  },
  {
   "cell_type": "code",
   "execution_count": 19,
   "metadata": {},
   "outputs": [],
   "source": [
    "train_users = set(train_data['chb'])"
   ]
  },
  {
   "cell_type": "code",
   "execution_count": 20,
   "metadata": {},
   "outputs": [],
   "source": [
    "soc_stat = pd.DataFrame(users_filtered.merge(train_data, on='chb').groupby(['age', 'gender'])['sys_numb'].value_counts().sort_values(ascending=False))\n",
    "soc_stat.columns = ['cnt']\n",
    "soc_stat.reset_index(inplace=True)\n",
    "soc_stat_top5 = soc_stat.groupby(['age', 'gender']).head(5)"
   ]
  },
  {
   "cell_type": "code",
   "execution_count": 21,
   "metadata": {},
   "outputs": [
    {
     "name": "stderr",
     "output_type": "stream",
     "text": [
      "C:\\Users\\Brux\\anaconda3\\lib\\site-packages\\ipykernel_launcher.py:6: SettingWithCopyWarning: \n",
      "A value is trying to be set on a copy of a slice from a DataFrame.\n",
      "Try using .loc[row_indexer,col_indexer] = value instead\n",
      "\n",
      "See the caveats in the documentation: https://pandas.pydata.org/pandas-docs/stable/user_guide/indexing.html#returning-a-view-versus-a-copy\n",
      "  \n"
     ]
    }
   ],
   "source": [
    "recommendations_by_soc = {(age, gender): [] for age in range(5, 100) for gender in ['male', 'female']}\n",
    "\n",
    "for age in range(5, 100):\n",
    "    for gender in ['male', 'female']:\n",
    "        gender_slice = soc_stat_top5[soc_stat_top5['gender'] == gender]\n",
    "        gender_slice['age_diff'] = np.abs(gender_slice['age'].astype(int) - age)\n",
    "        min_diff = gender_slice['age_diff'].min()\n",
    "        soc_scice = gender_slice[gender_slice['age_diff'] == min_diff]\n",
    "        recommendations_by_soc[(age, gender)] = soc_scice['sys_numb'].values[0:5]\n",
    "        "
   ]
  },
  {
   "cell_type": "markdown",
   "metadata": {},
   "source": [
    "## Модель"
   ]
  },
  {
   "cell_type": "markdown",
   "metadata": {},
   "source": [
    "Мы используем ALS из baseline решения с некоторыми улучшениями:\n",
    "\n",
    "1) Новому пользователю будем рекомендовать топ-5 самых популярных книг на основе социальных данных пользователя (пола и возраста)\n",
    "\n",
    "2) Мы устанавливаем минимальное пороговое значение для скора, которое найдём, максимизируя f1-метрику"
   ]
  },
  {
   "cell_type": "code",
   "execution_count": 60,
   "metadata": {},
   "outputs": [],
   "source": [
    "def df_to_sparse(df):\n",
    "    row = []\n",
    "    col = []\n",
    "    data = []\n",
    "\n",
    "    for line in df.itertuples():\n",
    "        row.append(mapping_chb_index[line.chb])\n",
    "        col.append(mapping_sys_numb_index[line.sys_numb])\n",
    "        data.append(1)\n",
    "\n",
    "    return csr_matrix((data, (row, col)))"
   ]
  },
  {
   "cell_type": "code",
   "execution_count": 61,
   "metadata": {},
   "outputs": [],
   "source": [
    "train_data_sparse = df_to_sparse(train_data)\n",
    "test_data_sparse = df_to_sparse(test_data)"
   ]
  },
  {
   "cell_type": "code",
   "execution_count": 62,
   "metadata": {},
   "outputs": [
    {
     "name": "stderr",
     "output_type": "stream",
     "text": [
      "C:\\Users\\Brux\\anaconda3\\lib\\site-packages\\implicit\\utils.py:27: UserWarning: OpenBLAS detected. Its highly recommend to set the environment variable 'export OPENBLAS_NUM_THREADS=1' to disable its internal multithreading\n",
      "  \"OpenBLAS detected. Its highly recommend to set the environment variable \"\n"
     ]
    },
    {
     "data": {
      "application/vnd.jupyter.widget-view+json": {
       "model_id": "6a303ccca36d4ed1aaa9e0062c59237f",
       "version_major": 2,
       "version_minor": 0
      },
      "text/plain": [
       "HBox(children=(FloatProgress(value=0.0, max=15.0), HTML(value='')))"
      ]
     },
     "metadata": {},
     "output_type": "display_data"
    },
    {
     "name": "stdout",
     "output_type": "stream",
     "text": [
      "\n"
     ]
    }
   ],
   "source": [
    "model = AlternatingLeastSquares()\n",
    "model.fit(train_data_sparse)"
   ]
  },
  {
   "cell_type": "code",
   "execution_count": 25,
   "metadata": {},
   "outputs": [],
   "source": [
    "def get_recom(userid, n=30, min_score=0):\n",
    "    reccomendations = []\n",
    "    scores = []\n",
    "    if mapping_index_chb[userid] not in train_users:\n",
    "        try:\n",
    "            user = users[users['chb'] == mapping_index_sys_numb[userid]].iloc[0]\n",
    "            age, gender = user['age'], user['gender']\n",
    "            if (age, gender) in recommendations_by_soc:\n",
    "                reccomendations = recommendations_by_soc[(age, gender)]\n",
    "                scores = [10 for x in reccomendations]\n",
    "        except:\n",
    "            pass\n",
    "    else:\n",
    "        ids, scores = model.recommend(userid, train_data_sparse[userid], N=n, filter_already_liked_items=False)\n",
    "        reccomendations = [mapping_index_sys_numb[id] for id in ids]\n",
    "    \n",
    "    recom_df = pd.DataFrame({\"sys_numb\": reccomendations, \"score\": scores})\n",
    "    return recom_df[recom_df['score'] >= min_score]"
   ]
  },
  {
   "cell_type": "code",
   "execution_count": 26,
   "metadata": {},
   "outputs": [
    {
     "name": "stderr",
     "output_type": "stream",
     "text": [
      "100%|███████████████████████████████████████████████████████████████████████████| 16753/16753 [02:21<00:00, 118.48it/s]\n"
     ]
    }
   ],
   "source": [
    "all_rec = []\n",
    "\n",
    "for userid in tqdm(range(train_data_sparse.shape[0]), position=0, leave=True):\n",
    "    user_chb = mapping_index_chb[userid]\n",
    "    user_rec = get_recom(userid)\n",
    "    for rn, row in user_rec.iterrows():\n",
    "        all_rec.append([user_chb, row['sys_numb'], row['score']])"
   ]
  },
  {
   "cell_type": "code",
   "execution_count": 27,
   "metadata": {},
   "outputs": [],
   "source": [
    "solution = pd.DataFrame(all_rec, columns=[\"chb\", \"sys_numb\", \"score\"])"
   ]
  },
  {
   "cell_type": "markdown",
   "metadata": {},
   "source": [
    "посмотрим как распределён скор"
   ]
  },
  {
   "cell_type": "code",
   "execution_count": 28,
   "metadata": {},
   "outputs": [
    {
     "data": {
      "text/plain": [
       "(0.008475257806516676, 7.062298664095579e-06)"
      ]
     },
     "execution_count": 28,
     "metadata": {},
     "output_type": "execute_result"
    }
   ],
   "source": [
    "solution['score'].mean(), solution['score'].median()"
   ]
  },
  {
   "cell_type": "code",
   "execution_count": 29,
   "metadata": {},
   "outputs": [],
   "source": [
    "score_quantiles = np.quantile(solution['score'], np.arange(0, 1, 0.01))"
   ]
  },
  {
   "cell_type": "markdown",
   "metadata": {},
   "source": [
    "## Считаем метрики"
   ]
  },
  {
   "cell_type": "code",
   "execution_count": 45,
   "metadata": {},
   "outputs": [],
   "source": [
    "def metric(df_solution, df_grd):\n",
    "    pred = set(df_solution['chb'].astype(str) + '_' + df_solution['sys_numb'].values)\n",
    "    true = set(df_grd['chb'].astype(str) + '_' + df_grd['sys_numb'].values)\n",
    "    recall = len(pred.intersection(true)) / len(true)\n",
    "    precision = len(pred.intersection(true)) / (len(df_solution[df_solution['chb'].isin(df_grd['chb'])]))\n",
    "    f1_score = 2 * (precision * recall) / (precision + recall)\n",
    "    return f1_score, precision, recall"
   ]
  },
  {
   "cell_type": "code",
   "execution_count": 31,
   "metadata": {},
   "outputs": [],
   "source": [
    "f1_scores, precisions, recalls = [], [], []\n",
    "\n",
    "for quant in score_quantiles:\n",
    "    df_solution = solution[solution['score'] >= quant]\n",
    "    f1, prec, rec = metric(df_solution, test_data)\n",
    "    f1_scores.append(f1)\n",
    "    precisions.append(prec)\n",
    "    recalls.append(rec)"
   ]
  },
  {
   "cell_type": "code",
   "execution_count": 32,
   "metadata": {},
   "outputs": [
    {
     "data": {
      "image/png": "[encoded data removed]",
      "text/plain": [
       "<Figure size 720x504 with 1 Axes>"
      ]
     },
     "metadata": {
      "needs_background": "light"
     },
     "output_type": "display_data"
    }
   ],
   "source": [
    "plt.figure(figsize=(10, 7))\n",
    "plt.plot(score_quantiles, f1_scores, label='f1')\n",
    "plt.plot(score_quantiles, precisions, label='precision')\n",
    "plt.plot(score_quantiles, recalls, label='recall')\n",
    "plt.legend()\n",
    "plt.show()"
   ]
  },
  {
   "cell_type": "markdown",
   "metadata": {},
   "source": [
    "Видим, что точность растёт при увеличении ограничений на скор рекомендуемой книги, полнота падает, как и должно быть. Выберем отсечку исходя из f1 метрики"
   ]
  },
  {
   "cell_type": "code",
   "execution_count": 33,
   "metadata": {},
   "outputs": [],
   "source": [
    "threshold = np.argmax(f1_scores)"
   ]
  },
  {
   "cell_type": "code",
   "execution_count": 34,
   "metadata": {},
   "outputs": [],
   "source": [
    "best_solution = solution[solution['score'] >= score_quantiles[threshold]]"
   ]
  },
  {
   "cell_type": "code",
   "execution_count": 39,
   "metadata": {},
   "outputs": [
    {
     "name": "stdout",
     "output_type": "stream",
     "text": [
      "f1: 0.024167174768582676\n",
      "precision: 0.08777934366821019\n",
      "recall: 0.014012534147517275\n"
     ]
    }
   ],
   "source": [
    "metrics = metric(best_solution, test_data)\n",
    "print(f\"f1: {metrics[0]}\")\n",
    "print(f\"precision: {metrics[1]}\")\n",
    "print(f\"recall: {metrics[2]}\")"
   ]
  },
  {
   "cell_type": "markdown",
   "metadata": {},
   "source": [
    "Видим что по сравнению с бейзлайном, полнота слегка уменьшилась, однако точность улучшилась в 27 раз, f1 более чем в 4 раза"
   ]
  },
  {
   "cell_type": "code",
   "execution_count": null,
   "metadata": {},
   "outputs": [],
   "source": [
    "best_solution.drop(\"score\", axis=1).to_csv(\"solution.csv\", index=False, sep=';')"
   ]
  },
  {
   "cell_type": "markdown",
   "metadata": {},
   "source": [
    "## Doc2Vec\n",
    "\n",
    "Векторизуем тексты, если текст близок к хотя бы одному тексту который читает пользователь -- добавляем его в рекомендации, из таких берём топ 3"
   ]
  },
  {
   "cell_type": "code",
   "execution_count": 52,
   "metadata": {},
   "outputs": [],
   "source": [
    "from gensim.models.doc2vec import Doc2Vec, TaggedDocument \n",
    "from collections import namedtuple"
   ]
  },
  {
   "cell_type": "markdown",
   "metadata": {},
   "source": [
    "векторизуем лишь те где есть заголовок"
   ]
  },
  {
   "cell_type": "code",
   "execution_count": 40,
   "metadata": {},
   "outputs": [],
   "source": [
    "items_with_title = items[items['title'] != 'отсутствует']"
   ]
  },
  {
   "cell_type": "code",
   "execution_count": 145,
   "metadata": {},
   "outputs": [
    {
     "data": {
      "text/html": [
       "<div>\n",
       "<style scoped>\n",
       "    .dataframe tbody tr th:only-of-type {\n",
       "        vertical-align: middle;\n",
       "    }\n",
       "\n",
       "    .dataframe tbody tr th {\n",
       "        vertical-align: top;\n",
       "    }\n",
       "\n",
       "    .dataframe thead th {\n",
       "        text-align: right;\n",
       "    }\n",
       "</style>\n",
       "<table border=\"1\" class=\"dataframe\">\n",
       "  <thead>\n",
       "    <tr style=\"text-align: right;\">\n",
       "      <th></th>\n",
       "      <th>sys_numb</th>\n",
       "      <th>title</th>\n",
       "      <th>author</th>\n",
       "      <th>izd</th>\n",
       "      <th>year_izd</th>\n",
       "      <th>bbk</th>\n",
       "    </tr>\n",
       "  </thead>\n",
       "  <tbody>\n",
       "    <tr>\n",
       "      <th>0</th>\n",
       "      <td>RSL01008600016</td>\n",
       "      <td>Судебное следствие в уголовном процессе России...</td>\n",
       "      <td>Машовец, Асия Океановна</td>\n",
       "      <td>Юрлитинформ</td>\n",
       "      <td>2016</td>\n",
       "      <td>Х629.374,0</td>\n",
       "    </tr>\n",
       "    <tr>\n",
       "      <th>1</th>\n",
       "      <td>RSL01004304880</td>\n",
       "      <td>Уральское казачество и его роль в системе росс...</td>\n",
       "      <td>Дубовиков, Александр Маратович</td>\n",
       "      <td>none</td>\n",
       "      <td>2006</td>\n",
       "      <td>none</td>\n",
       "    </tr>\n",
       "    <tr>\n",
       "      <th>4</th>\n",
       "      <td>RSL01002419013</td>\n",
       "      <td>\"Я пишу как эхо другого..\" : Очерки интеллекту...</td>\n",
       "      <td>Щедрина, Татьяна Геннадьевна</td>\n",
       "      <td>Прогресс-Традиция</td>\n",
       "      <td>2004</td>\n",
       "      <td>Ю3(2)6-69Шпет Г.Г.-3,0</td>\n",
       "    </tr>\n",
       "    <tr>\n",
       "      <th>5</th>\n",
       "      <td>RSL01004307424</td>\n",
       "      <td>Использование дробных физических нагрузок в ст...</td>\n",
       "      <td>Статун, Алла Николаевна</td>\n",
       "      <td>none</td>\n",
       "      <td>2007</td>\n",
       "      <td>none</td>\n",
       "    </tr>\n",
       "    <tr>\n",
       "      <th>7</th>\n",
       "      <td>RSL01009483558</td>\n",
       "      <td>Очерк психологии полиморфной индивидуальности ...</td>\n",
       "      <td>Белоус, Валерий Владимирович</td>\n",
       "      <td>none</td>\n",
       "      <td>2016</td>\n",
       "      <td>none</td>\n",
       "    </tr>\n",
       "  </tbody>\n",
       "</table>\n",
       "</div>"
      ],
      "text/plain": [
       "         sys_numb                                              title  \\\n",
       "0  RSL01008600016  Судебное следствие в уголовном процессе России...   \n",
       "1  RSL01004304880  Уральское казачество и его роль в системе росс...   \n",
       "4  RSL01002419013  \"Я пишу как эхо другого..\" : Очерки интеллекту...   \n",
       "5  RSL01004307424  Использование дробных физических нагрузок в ст...   \n",
       "7  RSL01009483558  Очерк психологии полиморфной индивидуальности ...   \n",
       "\n",
       "                           author                izd year_izd  \\\n",
       "0         Машовец, Асия Океановна        Юрлитинформ     2016   \n",
       "1  Дубовиков, Александр Маратович               none     2006   \n",
       "4    Щедрина, Татьяна Геннадьевна  Прогресс-Традиция     2004   \n",
       "5         Статун, Алла Николаевна               none     2007   \n",
       "7    Белоус, Валерий Владимирович               none     2016   \n",
       "\n",
       "                      bbk  \n",
       "0              Х629.374,0  \n",
       "1                    none  \n",
       "4  Ю3(2)6-69Шпет Г.Г.-3,0  \n",
       "5                    none  \n",
       "7                    none  "
      ]
     },
     "execution_count": 145,
     "metadata": {},
     "output_type": "execute_result"
    }
   ],
   "source": [
    "items_with_title.head()"
   ]
  },
  {
   "cell_type": "markdown",
   "metadata": {},
   "source": [
    "технические штуки: отображения id книги в номер строки и обратно"
   ]
  },
  {
   "cell_type": "code",
   "execution_count": 147,
   "metadata": {},
   "outputs": [],
   "source": [
    "id2ind = {el: i for i, el in enumerate(items_with_title['sys_numb'])}\n",
    "ind2id = {i: el for i, el in enumerate(items_with_title['sys_numb'])}"
   ]
  },
  {
   "cell_type": "markdown",
   "metadata": {},
   "source": [
    "обучаем doc2vec"
   ]
  },
  {
   "cell_type": "code",
   "execution_count": 47,
   "metadata": {},
   "outputs": [],
   "source": [
    "def get_words(doc):\n",
    "    words = doc.lower().split()\n",
    "    words = list(map(lambda x: \"\".join(filter(lambda l: l.isalpha(), x)), words))\n",
    "    return list(filter(lambda x: len(x) > 0, words))"
   ]
  },
  {
   "cell_type": "code",
   "execution_count": 53,
   "metadata": {},
   "outputs": [],
   "source": [
    "titles = list(map(get_words, items_with_title['title']))"
   ]
  },
  {
   "cell_type": "code",
   "execution_count": 54,
   "metadata": {},
   "outputs": [],
   "source": [
    "Documents = [TaggedDocument(doc, [i]) for i, doc in enumerate(titles)]"
   ]
  },
  {
   "cell_type": "code",
   "execution_count": 55,
   "metadata": {},
   "outputs": [],
   "source": [
    "model = doc2vec.Doc2Vec(Documents)"
   ]
  },
  {
   "cell_type": "code",
   "execution_count": null,
   "metadata": {},
   "outputs": [],
   "source": [
    "from sklearn.metrics.pairwise import cosine_similarity\n",
    "docvecs = np.array([model.docvecs[i] for i in range(len(titles))])"
   ]
  },
  {
   "cell_type": "markdown",
   "metadata": {},
   "source": [
    "для каждой книги ищем 4 самые похожие"
   ]
  },
  {
   "cell_type": "code",
   "execution_count": 122,
   "metadata": {},
   "outputs": [
    {
     "name": "stderr",
     "output_type": "stream",
     "text": [
      "100%|████████████████████████████████████████████████████████████████████████████████| 328/328 [22:37<00:00,  4.14s/it]\n"
     ]
    }
   ],
   "source": [
    "similar_docs = []\n",
    "batch_size = 1000\n",
    "\n",
    "for i in tqdm(range(0, len(titles), batch_size), leave=True, position=0):\n",
    "    cos = cosine_similarity(docvecs[i:i+batch_size], docvecs)\n",
    "    inds = np.argpartition(cos, -4, axis=1)[:,-4:]\n",
    "    for k in range(len(inds)):\n",
    "        similar_docs.append([(j, cos[k][j]) for j in inds[k] if i != j])"
   ]
  },
  {
   "cell_type": "markdown",
   "metadata": {},
   "source": [
    "среди них оказывается и сама эта книга так что ее фильтруем, отстается 3"
   ]
  },
  {
   "cell_type": "code",
   "execution_count": 141,
   "metadata": {},
   "outputs": [],
   "source": [
    "similar_docs = list(map(lambda x: list(filter(lambda y: y[1] < 0.9999, x)), similar_docs))"
   ]
  },
  {
   "cell_type": "markdown",
   "metadata": {},
   "source": [
    "считаются предыдущие блоки довольно долго, поэтому сохраним их результат на диск"
   ]
  },
  {
   "cell_type": "code",
   "execution_count": 142,
   "metadata": {},
   "outputs": [],
   "source": [
    "import pickle as pkl\n",
    "\n",
    "with open('similar_docs.pkl', 'wb') as f:\n",
    "    pkl.dump(similar_docs, f)"
   ]
  },
  {
   "cell_type": "code",
   "execution_count": 7,
   "metadata": {},
   "outputs": [],
   "source": [
    "with open('similar_docs.pkl', 'rb') as f:\n",
    "    similar_docs = pkl.loads(f.read())"
   ]
  },
  {
   "cell_type": "code",
   "execution_count": 8,
   "metadata": {},
   "outputs": [
    {
     "data": {
      "text/plain": [
       "[[(87270, 0.9109883), (309490, 0.9154674), (186650, 0.9183717)],\n",
       " [(84397, 0.7826655), (15748, 0.78635573), (121615, 0.79929936)],\n",
       " [(296927, 0.8650393), (272036, 0.8684506), (321468, 0.8659157)],\n",
       " [(84175, 0.63082457), (117980, 0.6323839), (6269, 0.6482941)],\n",
       " [(105403, 0.81315696), (164461, 0.8181336), (247354, 0.8307483)]]"
      ]
     },
     "execution_count": 8,
     "metadata": {},
     "output_type": "execute_result"
    }
   ],
   "source": [
    "similar_docs[0:5]"
   ]
  },
  {
   "cell_type": "markdown",
   "metadata": {},
   "source": [
    "пример похожих книг, первое число -- индекс книги, второе -- похожесть"
   ]
  },
  {
   "cell_type": "code",
   "execution_count": 143,
   "metadata": {},
   "outputs": [
    {
     "data": {
      "text/plain": [
       "[(296927, 0.8650393), (272036, 0.8684506), (321468, 0.8659157)]"
      ]
     },
     "execution_count": 143,
     "metadata": {},
     "output_type": "execute_result"
    }
   ],
   "source": [
    "similar_docs[2]"
   ]
  },
  {
   "cell_type": "markdown",
   "metadata": {},
   "source": [
    "функция рекомендации. Берём топ n (по умолчанию 3) книги, которые больше всего похожи на какую нибудь которую скачивал пользователь. Убираем из них те, что он уже скачивал"
   ]
  },
  {
   "cell_type": "code",
   "execution_count": 198,
   "metadata": {},
   "outputs": [],
   "source": [
    "def reccomend_by_d2v(user_id, n=3):\n",
    "    fav_items = set(train_data[train_data['chb'] == user_id]['sys_numb'])\n",
    "\n",
    "    rec_items = []\n",
    "    for item in fav_items:\n",
    "        if item in id2ind:\n",
    "            rec_items += similar_docs[id2ind[item]]\n",
    "    result = []\n",
    "\n",
    "    rec_items = sorted(rec_items, key=lambda x: -x[1])[0:n]\n",
    "    for item in rec_items:\n",
    "        result.append(ind2id[item[0]])\n",
    "\n",
    "    return list(set(result) - fav_items)"
   ]
  },
  {
   "cell_type": "markdown",
   "metadata": {},
   "source": [
    "пример"
   ]
  },
  {
   "cell_type": "code",
   "execution_count": 199,
   "metadata": {},
   "outputs": [
    {
     "data": {
      "text/plain": [
       "['RSL01004905282', 'RSL01009399349', 'RSL01003157641']"
      ]
     },
     "execution_count": 199,
     "metadata": {},
     "output_type": "execute_result"
    }
   ],
   "source": [
    "reccomend_by_d2v('300000990687')"
   ]
  },
  {
   "cell_type": "code",
   "execution_count": 210,
   "metadata": {},
   "outputs": [
    {
     "name": "stderr",
     "output_type": "stream",
     "text": [
      "100%|████████████████████████████████████████████████████████████████████████████| 16753/16753 [03:10<00:00, 87.96it/s]\n"
     ]
    }
   ],
   "source": [
    "d2v_reccomendations = []\n",
    "\n",
    "for userid in tqdm(range(train_data_sparse.shape[0]), position=0, leave=True):\n",
    "    user_chb = mapping_index_chb[userid]\n",
    "    user_rec = reccomend_by_d2v(user_chb)\n",
    "    for rec in user_rec:\n",
    "        d2v_reccomendations.append([user_chb, rec])"
   ]
  },
  {
   "cell_type": "markdown",
   "metadata": {},
   "source": [
    "получаем решение на основе doc2vec, добавляем его к нашему предыдущему SVD решению"
   ]
  },
  {
   "cell_type": "code",
   "execution_count": 214,
   "metadata": {},
   "outputs": [],
   "source": [
    "d2v_solution = pd.DataFrame(d2v_reccomendations, columns=[\"chb\", \"sys_numb\"])"
   ]
  },
  {
   "cell_type": "code",
   "execution_count": 215,
   "metadata": {},
   "outputs": [],
   "source": [
    "solution_with_d2v = pd.concat([best_solution, d2v_solution])"
   ]
  },
  {
   "cell_type": "code",
   "execution_count": 216,
   "metadata": {},
   "outputs": [
    {
     "name": "stdout",
     "output_type": "stream",
     "text": [
      "f1: 0.018895847245032397\n",
      "precision: 0.02154853050135836\n",
      "recall: 0.016824682628957095\n"
     ]
    }
   ],
   "source": [
    "metrics = metric(solution_with_d2v, test_data)\n",
    "print(f\"f1: {metrics[0]}\")\n",
    "print(f\"precision: {metrics[1]}\")\n",
    "print(f\"recall: {metrics[2]}\")"
   ]
  },
  {
   "cell_type": "markdown",
   "metadata": {},
   "source": [
    "Подняли немного recall, но сильно ухудшили precision, тем не менее решение теперь по всем метрикам лучше baseline"
   ]
  },
  {
   "cell_type": "code",
   "execution_count": 217,
   "metadata": {},
   "outputs": [],
   "source": [
    "solution_with_d2v.to_csv(\"solution_withd2v.csv\", index=False, sep=';')"
   ]
  },
  {
   "cell_type": "markdown",
   "metadata": {},
   "source": [
    "## Добавление рекомендаций по авторам"
   ]
  },
  {
   "cell_type": "code",
   "execution_count": 21,
   "metadata": {},
   "outputs": [],
   "source": [
    "items_with_author = items[~items['author'].isin(['отсутствует', 'none'])].dropna(subset=['author'])"
   ]
  },
  {
   "cell_type": "code",
   "execution_count": 22,
   "metadata": {},
   "outputs": [
    {
     "data": {
      "text/plain": [
       "Конволют                                                    937\n",
       "Зверев, Сергей Иванович 1964-                               323\n",
       "Струнников, Сергей Николаевич 1907-1944                     227\n",
       "Россия. Законы и постановления                              226\n",
       "Серова, Марина Сергеевна                                    199\n",
       "                                                           ... \n",
       "Костоусов, Алексей Геннадьевич                                1\n",
       "Володченкова, Оксана Юрьевна                                  1\n",
       "Орлов, Анатолий Петрович 1879-1937                            1\n",
       "Ибраев, Марат Умербаевич                                      1\n",
       "D. Baazov museum of history of Jews of Georgia (Tbilisi)      1\n",
       "Name: author, Length: 172620, dtype: int64"
      ]
     },
     "execution_count": 22,
     "metadata": {},
     "output_type": "execute_result"
    }
   ],
   "source": [
    "items_with_author['author'].value_counts()"
   ]
  },
  {
   "cell_type": "code",
   "execution_count": 127,
   "metadata": {},
   "outputs": [
    {
     "data": {
      "text/html": [
       "<div>\n",
       "<style scoped>\n",
       "    .dataframe tbody tr th:only-of-type {\n",
       "        vertical-align: middle;\n",
       "    }\n",
       "\n",
       "    .dataframe tbody tr th {\n",
       "        vertical-align: top;\n",
       "    }\n",
       "\n",
       "    .dataframe thead th {\n",
       "        text-align: right;\n",
       "    }\n",
       "</style>\n",
       "<table border=\"1\" class=\"dataframe\">\n",
       "  <thead>\n",
       "    <tr style=\"text-align: right;\">\n",
       "      <th></th>\n",
       "      <th>sys_numb</th>\n",
       "      <th>title</th>\n",
       "      <th>author</th>\n",
       "      <th>izd</th>\n",
       "      <th>year_izd</th>\n",
       "      <th>bbk</th>\n",
       "    </tr>\n",
       "  </thead>\n",
       "  <tbody>\n",
       "    <tr>\n",
       "      <th>0</th>\n",
       "      <td>RSL01008600016</td>\n",
       "      <td>Судебное следствие в уголовном процессе России...</td>\n",
       "      <td>Машовец, Асия Океановна</td>\n",
       "      <td>Юрлитинформ</td>\n",
       "      <td>2016</td>\n",
       "      <td>Х629.374,0</td>\n",
       "    </tr>\n",
       "    <tr>\n",
       "      <th>1</th>\n",
       "      <td>RSL01004304880</td>\n",
       "      <td>Уральское казачество и его роль в системе росс...</td>\n",
       "      <td>Дубовиков, Александр Маратович</td>\n",
       "      <td>none</td>\n",
       "      <td>2006</td>\n",
       "      <td>none</td>\n",
       "    </tr>\n",
       "    <tr>\n",
       "      <th>4</th>\n",
       "      <td>RSL01002419013</td>\n",
       "      <td>\"Я пишу как эхо другого..\" : Очерки интеллекту...</td>\n",
       "      <td>Щедрина, Татьяна Геннадьевна</td>\n",
       "      <td>Прогресс-Традиция</td>\n",
       "      <td>2004</td>\n",
       "      <td>Ю3(2)6-69Шпет Г.Г.-3,0</td>\n",
       "    </tr>\n",
       "    <tr>\n",
       "      <th>5</th>\n",
       "      <td>RSL01004307424</td>\n",
       "      <td>Использование дробных физических нагрузок в ст...</td>\n",
       "      <td>Статун, Алла Николаевна</td>\n",
       "      <td>none</td>\n",
       "      <td>2007</td>\n",
       "      <td>none</td>\n",
       "    </tr>\n",
       "    <tr>\n",
       "      <th>7</th>\n",
       "      <td>RSL01009483558</td>\n",
       "      <td>Очерк психологии полиморфной индивидуальности ...</td>\n",
       "      <td>Белоус, Валерий Владимирович</td>\n",
       "      <td>none</td>\n",
       "      <td>2016</td>\n",
       "      <td>none</td>\n",
       "    </tr>\n",
       "  </tbody>\n",
       "</table>\n",
       "</div>"
      ],
      "text/plain": [
       "         sys_numb                                              title  \\\n",
       "0  RSL01008600016  Судебное следствие в уголовном процессе России...   \n",
       "1  RSL01004304880  Уральское казачество и его роль в системе росс...   \n",
       "4  RSL01002419013  \"Я пишу как эхо другого..\" : Очерки интеллекту...   \n",
       "5  RSL01004307424  Использование дробных физических нагрузок в ст...   \n",
       "7  RSL01009483558  Очерк психологии полиморфной индивидуальности ...   \n",
       "\n",
       "                           author                izd year_izd  \\\n",
       "0         Машовец, Асия Океановна        Юрлитинформ     2016   \n",
       "1  Дубовиков, Александр Маратович               none     2006   \n",
       "4    Щедрина, Татьяна Геннадьевна  Прогресс-Традиция     2004   \n",
       "5         Статун, Алла Николаевна               none     2007   \n",
       "7    Белоус, Валерий Владимирович               none     2016   \n",
       "\n",
       "                      bbk  \n",
       "0              Х629.374,0  \n",
       "1                    none  \n",
       "4  Ю3(2)6-69Шпет Г.Г.-3,0  \n",
       "5                    none  \n",
       "7                    none  "
      ]
     },
     "execution_count": 127,
     "metadata": {},
     "output_type": "execute_result"
    }
   ],
   "source": [
    "items_with_author.head()"
   ]
  },
  {
   "cell_type": "code",
   "execution_count": 29,
   "metadata": {},
   "outputs": [],
   "source": [
    "train_data_with_auth = train_data.merge(items_with_author, on=['sys_numb'], how='inner')"
   ]
  },
  {
   "cell_type": "code",
   "execution_count": 30,
   "metadata": {},
   "outputs": [
    {
     "data": {
      "text/plain": [
       "(142982, 12)"
      ]
     },
     "execution_count": 30,
     "metadata": {},
     "output_type": "execute_result"
    }
   ],
   "source": [
    "train_data_with_auth.shape"
   ]
  },
  {
   "cell_type": "code",
   "execution_count": 31,
   "metadata": {},
   "outputs": [],
   "source": [
    "n_users = len(transactions['chb'].unique())\n",
    "n_items = len(items_with_author['author'].unique())\n",
    "\n",
    "mapping_chb_index = {chb_number: index for index, chb_number in enumerate(transactions['chb'].unique())}\n",
    "mapping_sys_numb_index = {sys_number: index for index, sys_number in enumerate(items_with_author['author'].unique())}\n",
    "\n",
    "mapping_index_chb = {index: chb_number for index, chb_number in enumerate(transactions['chb'].unique())}\n",
    "mapping_index_sys_numb = {index: sys_number for index, sys_number in enumerate(items_with_author['author'].unique())}"
   ]
  },
  {
   "cell_type": "code",
   "execution_count": 32,
   "metadata": {},
   "outputs": [],
   "source": [
    "def df_to_sparse(df):\n",
    "    row = []\n",
    "    col = []\n",
    "    data = []\n",
    "\n",
    "    for line in df.itertuples():\n",
    "        row.append(mapping_chb_index[line.chb])\n",
    "        col.append(mapping_sys_numb_index[line.author])\n",
    "        data.append(1)\n",
    "\n",
    "    return csr_matrix((data, (row, col)))"
   ]
  },
  {
   "cell_type": "code",
   "execution_count": 33,
   "metadata": {},
   "outputs": [],
   "source": [
    "train_data_sparse = df_to_sparse(train_data_with_auth)\n",
    "test_data_sparse = df_to_sparse(train_data_with_auth)"
   ]
  },
  {
   "cell_type": "code",
   "execution_count": 34,
   "metadata": {},
   "outputs": [
    {
     "name": "stderr",
     "output_type": "stream",
     "text": [
      "C:\\Users\\Brux\\anaconda3\\lib\\site-packages\\implicit\\utils.py:27: UserWarning: OpenBLAS detected. Its highly recommend to set the environment variable 'export OPENBLAS_NUM_THREADS=1' to disable its internal multithreading\n",
      "  \"OpenBLAS detected. Its highly recommend to set the environment variable \"\n"
     ]
    },
    {
     "data": {
      "application/vnd.jupyter.widget-view+json": {
       "model_id": "52e78af8412542efafea3149d2da8a78",
       "version_major": 2,
       "version_minor": 0
      },
      "text/plain": [
       "HBox(children=(FloatProgress(value=0.0, max=15.0), HTML(value='')))"
      ]
     },
     "metadata": {},
     "output_type": "display_data"
    },
    {
     "name": "stdout",
     "output_type": "stream",
     "text": [
      "\n"
     ]
    }
   ],
   "source": [
    "model = AlternatingLeastSquares()\n",
    "model.fit(train_data_sparse)"
   ]
  },
  {
   "cell_type": "code",
   "execution_count": 23,
   "metadata": {},
   "outputs": [],
   "source": [
    "author2items = {}\n",
    "\n",
    "for gn, group in items_with_author.groupby('author'):\n",
    "    author2items[gn] = set(group['sys_numb'])"
   ]
  },
  {
   "cell_type": "code",
   "execution_count": 24,
   "metadata": {},
   "outputs": [],
   "source": [
    "user2item = {}\n",
    "\n",
    "for gn, group in train_data.groupby('chb'):\n",
    "    user2item[gn] = set(group['sys_numb'])"
   ]
  },
  {
   "cell_type": "code",
   "execution_count": 38,
   "metadata": {},
   "outputs": [],
   "source": [
    "def get_recom_auth(userid, n_auth=2, n_items=2, min_score=0):\n",
    "    reccomendations = []\n",
    "    scores = []\n",
    "    ids, scores = model.recommend(userid, train_data_sparse[userid], N=n_auth, filter_already_liked_items=False)\n",
    "    reccomendations = [mapping_index_sys_numb[id] for id in ids]\n",
    "    \n",
    "    items_reccomendations = []\n",
    "    for i in range(len(reccomendations)):\n",
    "        if scores[i] >= min_score and mapping_index_chb[userid] in user2item:\n",
    "            items_reccomendations += list(author2items[reccomendations[i]] - user2item[mapping_index_chb[userid]])[0:n_items]\n",
    "\n",
    "    return items_reccomendations"
   ]
  },
  {
   "cell_type": "code",
   "execution_count": 39,
   "metadata": {},
   "outputs": [
    {
     "name": "stderr",
     "output_type": "stream",
     "text": [
      "100%|███████████████████████████████████████████████████████████████████████████| 16753/16753 [00:47<00:00, 353.12it/s]\n"
     ]
    }
   ],
   "source": [
    "auth_rec = []\n",
    "\n",
    "for userid in tqdm(range(train_data_sparse.shape[0]), position=0, leave=True):\n",
    "    user_chb = mapping_index_chb[userid]\n",
    "    user_rec = get_recom_auth(userid)\n",
    "    for rec in user_rec:\n",
    "        auth_rec.append([user_chb, rec])"
   ]
  },
  {
   "cell_type": "code",
   "execution_count": 40,
   "metadata": {},
   "outputs": [],
   "source": [
    "solution_auth = pd.DataFrame(auth_rec, columns=[\"chb\", \"sys_numb\"])"
   ]
  },
  {
   "cell_type": "code",
   "execution_count": 41,
   "metadata": {},
   "outputs": [
    {
     "data": {
      "text/html": [
       "<div>\n",
       "<style scoped>\n",
       "    .dataframe tbody tr th:only-of-type {\n",
       "        vertical-align: middle;\n",
       "    }\n",
       "\n",
       "    .dataframe tbody tr th {\n",
       "        vertical-align: top;\n",
       "    }\n",
       "\n",
       "    .dataframe thead th {\n",
       "        text-align: right;\n",
       "    }\n",
       "</style>\n",
       "<table border=\"1\" class=\"dataframe\">\n",
       "  <thead>\n",
       "    <tr style=\"text-align: right;\">\n",
       "      <th></th>\n",
       "      <th>chb</th>\n",
       "      <th>sys_numb</th>\n",
       "    </tr>\n",
       "  </thead>\n",
       "  <tbody>\n",
       "    <tr>\n",
       "      <th>0</th>\n",
       "      <td>100000641403</td>\n",
       "      <td>RSL01003627421</td>\n",
       "    </tr>\n",
       "    <tr>\n",
       "      <th>1</th>\n",
       "      <td>100000641403</td>\n",
       "      <td>RSL01010999862</td>\n",
       "    </tr>\n",
       "    <tr>\n",
       "      <th>2</th>\n",
       "      <td>100000641403</td>\n",
       "      <td>RSL01005577940</td>\n",
       "    </tr>\n",
       "    <tr>\n",
       "      <th>3</th>\n",
       "      <td>100000641403</td>\n",
       "      <td>RSL01005577852</td>\n",
       "    </tr>\n",
       "    <tr>\n",
       "      <th>4</th>\n",
       "      <td>100000644359</td>\n",
       "      <td>RSL01005048336</td>\n",
       "    </tr>\n",
       "    <tr>\n",
       "      <th>...</th>\n",
       "      <td>...</td>\n",
       "      <td>...</td>\n",
       "    </tr>\n",
       "    <tr>\n",
       "      <th>63653</th>\n",
       "      <td>300001173062</td>\n",
       "      <td>RSL01001795305</td>\n",
       "    </tr>\n",
       "    <tr>\n",
       "      <th>63654</th>\n",
       "      <td>400001035059</td>\n",
       "      <td>RSL01004020232</td>\n",
       "    </tr>\n",
       "    <tr>\n",
       "      <th>63655</th>\n",
       "      <td>400001035059</td>\n",
       "      <td>RSL01005421445</td>\n",
       "    </tr>\n",
       "    <tr>\n",
       "      <th>63656</th>\n",
       "      <td>400001035059</td>\n",
       "      <td>RSL01003767865</td>\n",
       "    </tr>\n",
       "    <tr>\n",
       "      <th>63657</th>\n",
       "      <td>400001035059</td>\n",
       "      <td>RSL01003803511</td>\n",
       "    </tr>\n",
       "  </tbody>\n",
       "</table>\n",
       "<p>63658 rows × 2 columns</p>\n",
       "</div>"
      ],
      "text/plain": [
       "                chb        sys_numb\n",
       "0      100000641403  RSL01003627421\n",
       "1      100000641403  RSL01010999862\n",
       "2      100000641403  RSL01005577940\n",
       "3      100000641403  RSL01005577852\n",
       "4      100000644359  RSL01005048336\n",
       "...             ...             ...\n",
       "63653  300001173062  RSL01001795305\n",
       "63654  400001035059  RSL01004020232\n",
       "63655  400001035059  RSL01005421445\n",
       "63656  400001035059  RSL01003767865\n",
       "63657  400001035059  RSL01003803511\n",
       "\n",
       "[63658 rows x 2 columns]"
      ]
     },
     "execution_count": 41,
     "metadata": {},
     "output_type": "execute_result"
    }
   ],
   "source": [
    "solution_auth"
   ]
  },
  {
   "cell_type": "code",
   "execution_count": 86,
   "metadata": {},
   "outputs": [],
   "source": [
    "solution_with_d2v = pd.read_csv(\"solution_withd2v.csv\", sep=';')"
   ]
  },
  {
   "cell_type": "code",
   "execution_count": 87,
   "metadata": {},
   "outputs": [],
   "source": [
    "solution_with_d2v_and_auth = pd.concat([solution_with_d2v, solution_auth]).drop_duplicates()"
   ]
  },
  {
   "cell_type": "code",
   "execution_count": 88,
   "metadata": {},
   "outputs": [
    {
     "name": "stdout",
     "output_type": "stream",
     "text": [
      "f1: 0.03610818280874888\n",
      "precision: 0.040265539178883314\n",
      "recall: 0.032728966259294355\n"
     ]
    }
   ],
   "source": [
    "metrics = metric(solution_with_d2v_and_auth, test_data)\n",
    "print(f\"f1: {metrics[0]}\")\n",
    "print(f\"precision: {metrics[1]}\")\n",
    "print(f\"recall: {metrics[2]}\")\n"
   ]
  },
  {
   "cell_type": "code",
   "execution_count": 97,
   "metadata": {},
   "outputs": [],
   "source": [
    "solution_with_d2v_and_auth.groupby(by='chb').head(20).drop('score', axis=1).astype(str).to_csv(\"solution_withd2v_authors.csv\", index=False, sep=';')"
   ]
  },
  {
   "cell_type": "code",
   "execution_count": 98,
   "metadata": {},
   "outputs": [],
   "source": [
    "solution = pd.read_csv('solution_withd2v_authors.csv', delimiter=';')"
   ]
  },
  {
   "cell_type": "code",
   "execution_count": 99,
   "metadata": {},
   "outputs": [
    {
     "data": {
      "text/plain": [
       "(118527, 2)"
      ]
     },
     "execution_count": 99,
     "metadata": {},
     "output_type": "execute_result"
    }
   ],
   "source": [
    "solution.shape"
   ]
  },
  {
   "cell_type": "code",
   "execution_count": 100,
   "metadata": {},
   "outputs": [
    {
     "data": {
      "text/plain": [
       "100000704313    24\n",
       "200001131427    24\n",
       "300000840426    24\n",
       "300000823942    24\n",
       "300000821615    24\n",
       "                ..\n",
       "300000871957     2\n",
       "300000873973     2\n",
       "300000890992     2\n",
       "200000865887     2\n",
       "200001123324     2\n",
       "Name: chb, Length: 16742, dtype: int64"
      ]
     },
     "execution_count": 100,
     "metadata": {},
     "output_type": "execute_result"
    }
   ],
   "source": [
    "solution['chb'].value_counts()"
   ]
  },
  {
   "cell_type": "code",
   "execution_count": 95,
   "metadata": {},
   "outputs": [
    {
     "data": {
      "text/html": [
       "<div>\n",
       "<style scoped>\n",
       "    .dataframe tbody tr th:only-of-type {\n",
       "        vertical-align: middle;\n",
       "    }\n",
       "\n",
       "    .dataframe tbody tr th {\n",
       "        vertical-align: top;\n",
       "    }\n",
       "\n",
       "    .dataframe thead th {\n",
       "        text-align: right;\n",
       "    }\n",
       "</style>\n",
       "<table border=\"1\" class=\"dataframe\">\n",
       "  <thead>\n",
       "    <tr style=\"text-align: right;\">\n",
       "      <th></th>\n",
       "      <th>chb</th>\n",
       "      <th>sys_numb</th>\n",
       "    </tr>\n",
       "  </thead>\n",
       "  <tbody>\n",
       "    <tr>\n",
       "      <th>0</th>\n",
       "      <td>100000704313</td>\n",
       "      <td>RSL01003921476</td>\n",
       "    </tr>\n",
       "    <tr>\n",
       "      <th>1</th>\n",
       "      <td>100000704313</td>\n",
       "      <td>RSL01003921447</td>\n",
       "    </tr>\n",
       "    <tr>\n",
       "      <th>2</th>\n",
       "      <td>100000704313</td>\n",
       "      <td>RSL01003921463</td>\n",
       "    </tr>\n",
       "    <tr>\n",
       "      <th>3</th>\n",
       "      <td>100000704313</td>\n",
       "      <td>RSL01003821761</td>\n",
       "    </tr>\n",
       "    <tr>\n",
       "      <th>4</th>\n",
       "      <td>100000704313</td>\n",
       "      <td>RSL01003647118</td>\n",
       "    </tr>\n",
       "    <tr>\n",
       "      <th>...</th>\n",
       "      <td>...</td>\n",
       "      <td>...</td>\n",
       "    </tr>\n",
       "    <tr>\n",
       "      <th>118522</th>\n",
       "      <td>300001173062</td>\n",
       "      <td>RSL01001795305</td>\n",
       "    </tr>\n",
       "    <tr>\n",
       "      <th>118523</th>\n",
       "      <td>400001035059</td>\n",
       "      <td>RSL01004020232</td>\n",
       "    </tr>\n",
       "    <tr>\n",
       "      <th>118524</th>\n",
       "      <td>400001035059</td>\n",
       "      <td>RSL01005421445</td>\n",
       "    </tr>\n",
       "    <tr>\n",
       "      <th>118525</th>\n",
       "      <td>400001035059</td>\n",
       "      <td>RSL01003767865</td>\n",
       "    </tr>\n",
       "    <tr>\n",
       "      <th>118526</th>\n",
       "      <td>400001035059</td>\n",
       "      <td>RSL01003803511</td>\n",
       "    </tr>\n",
       "  </tbody>\n",
       "</table>\n",
       "<p>118527 rows × 2 columns</p>\n",
       "</div>"
      ],
      "text/plain": [
       "                 chb        sys_numb\n",
       "0       100000704313  RSL01003921476\n",
       "1       100000704313  RSL01003921447\n",
       "2       100000704313  RSL01003921463\n",
       "3       100000704313  RSL01003821761\n",
       "4       100000704313  RSL01003647118\n",
       "...              ...             ...\n",
       "118522  300001173062  RSL01001795305\n",
       "118523  400001035059  RSL01004020232\n",
       "118524  400001035059  RSL01005421445\n",
       "118525  400001035059  RSL01003767865\n",
       "118526  400001035059  RSL01003803511\n",
       "\n",
       "[118527 rows x 2 columns]"
      ]
     },
     "execution_count": 95,
     "metadata": {},
     "output_type": "execute_result"
    }
   ],
   "source": [
    "solution"
   ]
  },
  {
   "cell_type": "code",
   "execution_count": 115,
   "metadata": {},
   "outputs": [
    {
     "data": {
      "text/html": [
       "<div>\n",
       "<style scoped>\n",
       "    .dataframe tbody tr th:only-of-type {\n",
       "        vertical-align: middle;\n",
       "    }\n",
       "\n",
       "    .dataframe tbody tr th {\n",
       "        vertical-align: top;\n",
       "    }\n",
       "\n",
       "    .dataframe thead th {\n",
       "        text-align: right;\n",
       "    }\n",
       "</style>\n",
       "<table border=\"1\" class=\"dataframe\">\n",
       "  <thead>\n",
       "    <tr style=\"text-align: right;\">\n",
       "      <th></th>\n",
       "      <th>chb</th>\n",
       "      <th>sys_numb</th>\n",
       "      <th>score</th>\n",
       "    </tr>\n",
       "  </thead>\n",
       "  <tbody>\n",
       "    <tr>\n",
       "      <th>0</th>\n",
       "      <td>100000704313</td>\n",
       "      <td>RSL01003921476</td>\n",
       "      <td>1.071200</td>\n",
       "    </tr>\n",
       "    <tr>\n",
       "      <th>1</th>\n",
       "      <td>100000704313</td>\n",
       "      <td>RSL01003921447</td>\n",
       "      <td>1.047348</td>\n",
       "    </tr>\n",
       "    <tr>\n",
       "      <th>2</th>\n",
       "      <td>100000704313</td>\n",
       "      <td>RSL01003921463</td>\n",
       "      <td>1.040125</td>\n",
       "    </tr>\n",
       "    <tr>\n",
       "      <th>3</th>\n",
       "      <td>100000704313</td>\n",
       "      <td>RSL01003821761</td>\n",
       "      <td>1.039680</td>\n",
       "    </tr>\n",
       "    <tr>\n",
       "      <th>4</th>\n",
       "      <td>100000704313</td>\n",
       "      <td>RSL01003647118</td>\n",
       "      <td>1.036009</td>\n",
       "    </tr>\n",
       "    <tr>\n",
       "      <th>...</th>\n",
       "      <td>...</td>\n",
       "      <td>...</td>\n",
       "      <td>...</td>\n",
       "    </tr>\n",
       "    <tr>\n",
       "      <th>63653</th>\n",
       "      <td>300001173062</td>\n",
       "      <td>RSL01001795305</td>\n",
       "      <td>NaN</td>\n",
       "    </tr>\n",
       "    <tr>\n",
       "      <th>63654</th>\n",
       "      <td>400001035059</td>\n",
       "      <td>RSL01004020232</td>\n",
       "      <td>NaN</td>\n",
       "    </tr>\n",
       "    <tr>\n",
       "      <th>63655</th>\n",
       "      <td>400001035059</td>\n",
       "      <td>RSL01005421445</td>\n",
       "      <td>NaN</td>\n",
       "    </tr>\n",
       "    <tr>\n",
       "      <th>63656</th>\n",
       "      <td>400001035059</td>\n",
       "      <td>RSL01003767865</td>\n",
       "      <td>NaN</td>\n",
       "    </tr>\n",
       "    <tr>\n",
       "      <th>63657</th>\n",
       "      <td>400001035059</td>\n",
       "      <td>RSL01003803511</td>\n",
       "      <td>NaN</td>\n",
       "    </tr>\n",
       "  </tbody>\n",
       "</table>\n",
       "<p>122521 rows × 3 columns</p>\n",
       "</div>"
      ],
      "text/plain": [
       "                chb        sys_numb     score\n",
       "0      100000704313  RSL01003921476  1.071200\n",
       "1      100000704313  RSL01003921447  1.047348\n",
       "2      100000704313  RSL01003921463  1.040125\n",
       "3      100000704313  RSL01003821761  1.039680\n",
       "4      100000704313  RSL01003647118  1.036009\n",
       "...             ...             ...       ...\n",
       "63653  300001173062  RSL01001795305       NaN\n",
       "63654  400001035059  RSL01004020232       NaN\n",
       "63655  400001035059  RSL01005421445       NaN\n",
       "63656  400001035059  RSL01003767865       NaN\n",
       "63657  400001035059  RSL01003803511       NaN\n",
       "\n",
       "[122521 rows x 3 columns]"
      ]
     },
     "execution_count": 115,
     "metadata": {},
     "output_type": "execute_result"
    }
   ],
   "source": [
    "solution_with_d2v_and_auth.dropna(subset=['chb'])"
   ]
  },
  {
   "cell_type": "code",
   "execution_count": 117,
   "metadata": {},
   "outputs": [],
   "source": [
    "solution_with_d2v_and_auth['chb'] = solution_with_d2v_and_auth['chb'].apply(lambda x: str(x).strip())"
   ]
  },
  {
   "cell_type": "code",
   "execution_count": 118,
   "metadata": {},
   "outputs": [
    {
     "name": "stdout",
     "output_type": "stream",
     "text": [
      "<class 'pandas.core.frame.DataFrame'>\n",
      "Int64Index: 122521 entries, 0 to 63657\n",
      "Data columns (total 3 columns):\n",
      " #   Column    Non-Null Count   Dtype  \n",
      "---  ------    --------------   -----  \n",
      " 0   chb       122521 non-null  object \n",
      " 1   sys_numb  122521 non-null  object \n",
      " 2   score     9967 non-null    float64\n",
      "dtypes: float64(1), object(2)\n",
      "memory usage: 3.7+ MB\n"
     ]
    }
   ],
   "source": [
    "solution_with_d2v_and_auth.info()"
   ]
  },
  {
   "cell_type": "code",
   "execution_count": 119,
   "metadata": {},
   "outputs": [],
   "source": [
    "solution = solution_with_d2v_and_auth.groupby(by='chb').head(20).drop('score', axis=1)"
   ]
  },
  {
   "cell_type": "code",
   "execution_count": 120,
   "metadata": {},
   "outputs": [
    {
     "data": {
      "text/plain": [
       "100000704313    20\n",
       "300000840633    20\n",
       "300000867560    20\n",
       "300000863416    20\n",
       "300000862221    20\n",
       "                ..\n",
       "300000871957     2\n",
       "300000873973     2\n",
       "300000890992     2\n",
       "200000865887     2\n",
       "200001123324     2\n",
       "Name: chb, Length: 16742, dtype: int64"
      ]
     },
     "execution_count": 120,
     "metadata": {},
     "output_type": "execute_result"
    }
   ],
   "source": [
    "solution['chb'].value_counts()"
   ]
  },
  {
   "cell_type": "code",
   "execution_count": 121,
   "metadata": {},
   "outputs": [
    {
     "data": {
      "text/plain": [
       "(117402, 2)"
      ]
     },
     "execution_count": 121,
     "metadata": {},
     "output_type": "execute_result"
    }
   ],
   "source": [
    "solution.shape"
   ]
  },
  {
   "cell_type": "code",
   "execution_count": 105,
   "metadata": {},
   "outputs": [
    {
     "name": "stdout",
     "output_type": "stream",
     "text": [
      "<class 'pandas.core.frame.DataFrame'>\n",
      "Int64Index: 118527 entries, 0 to 63657\n",
      "Data columns (total 2 columns):\n",
      " #   Column    Non-Null Count   Dtype \n",
      "---  ------    --------------   ----- \n",
      " 0   chb       118527 non-null  object\n",
      " 1   sys_numb  118527 non-null  object\n",
      "dtypes: object(2)\n",
      "memory usage: 2.7+ MB\n"
     ]
    }
   ],
   "source": [
    "solution.info()"
   ]
  },
  {
   "cell_type": "code",
   "execution_count": 122,
   "metadata": {},
   "outputs": [],
   "source": [
    "solution.to_csv('final_solution.csv', index=False, sep=';')"
   ]
  },
  {
   "cell_type": "code",
   "execution_count": 123,
   "metadata": {},
   "outputs": [
    {
     "data": {
      "text/plain": [
       "100000704313    20\n",
       "300000840633    20\n",
       "300000867560    20\n",
       "300000863416    20\n",
       "300000862221    20\n",
       "                ..\n",
       "300000871957     2\n",
       "300000873973     2\n",
       "300000890992     2\n",
       "200000865887     2\n",
       "200001123324     2\n",
       "Name: chb, Length: 16742, dtype: int64"
      ]
     },
     "execution_count": 123,
     "metadata": {},
     "output_type": "execute_result"
    }
   ],
   "source": [
    "pd.read_csv('final_solution.csv', sep=';')['chb'].value_counts()"
   ]
  },
  {
   "cell_type": "markdown",
   "metadata": {},
   "source": [
    "## Простая рекомендация при помощи авторов"
   ]
  },
  {
   "cell_type": "code",
   "execution_count": 43,
   "metadata": {},
   "outputs": [
    {
     "data": {
      "text/plain": [
       "yes    185958\n",
       "no       8716\n",
       "Name: is_real, dtype: int64"
      ]
     },
     "execution_count": 43,
     "metadata": {},
     "output_type": "execute_result"
    }
   ],
   "source": [
    "train_data['is_real'].value_counts()"
   ]
  },
  {
   "cell_type": "code",
   "execution_count": 145,
   "metadata": {},
   "outputs": [],
   "source": [
    "user2item_df = []\n",
    "for user in user2item:\n",
    "    for item in user2item[user]:\n",
    "        user2item_df.append([user, item])\n",
    "\n",
    "user2item_df = pd.DataFrame(user2item_df, columns=['chb', 'sys_numb'])"
   ]
  },
  {
   "cell_type": "code",
   "execution_count": 146,
   "metadata": {},
   "outputs": [],
   "source": [
    "user2author_df = pd.DataFrame(user2item_df.merge(items, on=['sys_numb']).groupby('chb')['author'].value_counts())\n",
    "user2author_df.columns = ['count']\n",
    "user2author_df = user2author_df.reset_index()"
   ]
  },
  {
   "cell_type": "code",
   "execution_count": 147,
   "metadata": {},
   "outputs": [
    {
     "data": {
      "text/html": [
       "<div>\n",
       "<style scoped>\n",
       "    .dataframe tbody tr th:only-of-type {\n",
       "        vertical-align: middle;\n",
       "    }\n",
       "\n",
       "    .dataframe tbody tr th {\n",
       "        vertical-align: top;\n",
       "    }\n",
       "\n",
       "    .dataframe thead th {\n",
       "        text-align: right;\n",
       "    }\n",
       "</style>\n",
       "<table border=\"1\" class=\"dataframe\">\n",
       "  <thead>\n",
       "    <tr style=\"text-align: right;\">\n",
       "      <th></th>\n",
       "      <th>chb</th>\n",
       "      <th>author</th>\n",
       "      <th>count</th>\n",
       "    </tr>\n",
       "  </thead>\n",
       "  <tbody>\n",
       "    <tr>\n",
       "      <th>0</th>\n",
       "      <td>100000641403</td>\n",
       "      <td>Максимов, Владимир Лаврович</td>\n",
       "      <td>2</td>\n",
       "    </tr>\n",
       "    <tr>\n",
       "      <th>1</th>\n",
       "      <td>100000641403</td>\n",
       "      <td>Шалаев, Николай Федорович</td>\n",
       "      <td>1</td>\n",
       "    </tr>\n",
       "    <tr>\n",
       "      <th>2</th>\n",
       "      <td>100000644359</td>\n",
       "      <td>Акылбеков, Нургали Икрамович</td>\n",
       "      <td>1</td>\n",
       "    </tr>\n",
       "    <tr>\n",
       "      <th>3</th>\n",
       "      <td>100000644359</td>\n",
       "      <td>Барат, Вера Александровна</td>\n",
       "      <td>1</td>\n",
       "    </tr>\n",
       "    <tr>\n",
       "      <th>4</th>\n",
       "      <td>100000644359</td>\n",
       "      <td>Борисова, Полина Николаевна</td>\n",
       "      <td>1</td>\n",
       "    </tr>\n",
       "    <tr>\n",
       "      <th>...</th>\n",
       "      <td>...</td>\n",
       "      <td>...</td>\n",
       "      <td>...</td>\n",
       "    </tr>\n",
       "    <tr>\n",
       "      <th>131710</th>\n",
       "      <td>300001173062</td>\n",
       "      <td>Грицаев, Сергей Анатольевич</td>\n",
       "      <td>1</td>\n",
       "    </tr>\n",
       "    <tr>\n",
       "      <th>131711</th>\n",
       "      <td>300001173062</td>\n",
       "      <td>Марусин, Игорь Станиславович</td>\n",
       "      <td>1</td>\n",
       "    </tr>\n",
       "    <tr>\n",
       "      <th>131712</th>\n",
       "      <td>400001035059</td>\n",
       "      <td>Зауторова, Эльвира Викторовна</td>\n",
       "      <td>1</td>\n",
       "    </tr>\n",
       "    <tr>\n",
       "      <th>131713</th>\n",
       "      <td>400001035059</td>\n",
       "      <td>Чугунова, Ирина Владимировна</td>\n",
       "      <td>1</td>\n",
       "    </tr>\n",
       "    <tr>\n",
       "      <th>131714</th>\n",
       "      <td>400001035059</td>\n",
       "      <td>Штибен, Владимир Константинович</td>\n",
       "      <td>1</td>\n",
       "    </tr>\n",
       "  </tbody>\n",
       "</table>\n",
       "<p>131715 rows × 3 columns</p>\n",
       "</div>"
      ],
      "text/plain": [
       "                 chb                           author  count\n",
       "0       100000641403      Максимов, Владимир Лаврович      2\n",
       "1       100000641403        Шалаев, Николай Федорович      1\n",
       "2       100000644359     Акылбеков, Нургали Икрамович      1\n",
       "3       100000644359        Барат, Вера Александровна      1\n",
       "4       100000644359      Борисова, Полина Николаевна      1\n",
       "...              ...                              ...    ...\n",
       "131710  300001173062      Грицаев, Сергей Анатольевич      1\n",
       "131711  300001173062     Марусин, Игорь Станиславович      1\n",
       "131712  400001035059    Зауторова, Эльвира Викторовна      1\n",
       "131713  400001035059     Чугунова, Ирина Владимировна      1\n",
       "131714  400001035059  Штибен, Владимир Константинович      1\n",
       "\n",
       "[131715 rows x 3 columns]"
      ]
     },
     "execution_count": 147,
     "metadata": {},
     "output_type": "execute_result"
    }
   ],
   "source": [
    "user2author_df"
   ]
  },
  {
   "cell_type": "code",
   "execution_count": 148,
   "metadata": {},
   "outputs": [],
   "source": [
    "user2author_df = user2author_df.merge(items_with_author, on='author').merge(train_data, on=['chb', 'sys_numb'], how='left')"
   ]
  },
  {
   "cell_type": "code",
   "execution_count": 149,
   "metadata": {},
   "outputs": [],
   "source": [
    "user2author_df = user2author_df[user2author_df['is_real'].isna()]"
   ]
  },
  {
   "cell_type": "code",
   "execution_count": 150,
   "metadata": {},
   "outputs": [],
   "source": [
    "user2author_df.sort_values(by='count', ascending=False, inplace=True)"
   ]
  },
  {
   "cell_type": "code",
   "execution_count": 153,
   "metadata": {},
   "outputs": [],
   "source": [
    "user2author_df.sort_values(by=['count'], ascending=False, inplace=True)"
   ]
  },
  {
   "cell_type": "code",
   "execution_count": 154,
   "metadata": {},
   "outputs": [],
   "source": [
    "user2author_df.groupby('chb').head(20)[['chb', 'sys_numb']].to_csv('simple_sol_auth.csv', index=False, sep=';')"
   ]
  },
  {
   "cell_type": "code",
   "execution_count": 93,
   "metadata": {},
   "outputs": [
    {
     "data": {
      "text/plain": [
       "300001044845    10\n",
       "300000938156    10\n",
       "300000841505    10\n",
       "300001072099    10\n",
       "200001068380    10\n",
       "                ..\n",
       "200001068035     1\n",
       "200001069823     1\n",
       "300001151920     1\n",
       "200000976281     1\n",
       "200000793485     1\n",
       "Name: chb, Length: 11818, dtype: int64"
      ]
     },
     "execution_count": 93,
     "metadata": {},
     "output_type": "execute_result"
    }
   ],
   "source": [
    "pd.read_csv('simple_sol_auth.csv', sep=';')['chb'].value_counts()"
   ]
  },
  {
   "cell_type": "code",
   "execution_count": null,
   "metadata": {},
   "outputs": [],
   "source": []
  },
  {
   "cell_type": "code",
   "execution_count": null,
   "metadata": {},
   "outputs": [],
   "source": []
  },
  {
   "cell_type": "code",
   "execution_count": null,
   "metadata": {},
   "outputs": [],
   "source": []
  },
  {
   "cell_type": "code",
   "execution_count": null,
   "metadata": {},
   "outputs": [],
   "source": []
  },
  {
   "cell_type": "code",
   "execution_count": null,
   "metadata": {},
   "outputs": [],
   "source": []
  },
  {
   "cell_type": "code",
   "execution_count": null,
   "metadata": {},
   "outputs": [],
   "source": []
  },
  {
   "cell_type": "code",
   "execution_count": null,
   "metadata": {},
   "outputs": [],
   "source": []
  },
  {
   "cell_type": "code",
   "execution_count": null,
   "metadata": {},
   "outputs": [],
   "source": []
  },
  {
   "cell_type": "code",
   "execution_count": null,
   "metadata": {},
   "outputs": [],
   "source": []
  }
 ],
 "metadata": {
  "kernelspec": {
   "display_name": "Python 3",
   "language": "python",
   "name": "python3"
  },
  "language_info": {
   "codemirror_mode": {
    "name": "ipython",
    "version": 3
   },
   "file_extension": ".py",
   "mimetype": "text/x-python",
   "name": "python",
   "nbconvert_exporter": "python",
   "pygments_lexer": "ipython3",
   "version": "3.7.6"
  }
 },
 "nbformat": 4,
 "nbformat_minor": 4
}
